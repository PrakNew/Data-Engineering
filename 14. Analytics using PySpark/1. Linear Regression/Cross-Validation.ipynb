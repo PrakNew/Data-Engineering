{
 "cells": [
  {
   "cell_type": "markdown",
   "metadata": {},
   "source": [
    "# Cross-Validation "
   ]
  },
  {
   "cell_type": "code",
   "execution_count": null,
   "metadata": {},
   "outputs": [],
   "source": [
    "from pyspark.sql import SparkSession\n",
    "spark = SparkSession.builder.appName('Regularization').getOrCreate()"
   ]
  },
  {
   "cell_type": "code",
   "execution_count": null,
   "metadata": {},
   "outputs": [],
   "source": [
    "sc.install_pypi_package(\"sklearn\")"
   ]
  },
  {
   "cell_type": "code",
   "execution_count": null,
   "metadata": {},
   "outputs": [],
   "source": [
    "sc.install_pypi_package(\"pandas==0.25.1\")"
   ]
  },
  {
   "cell_type": "code",
   "execution_count": null,
   "metadata": {},
   "outputs": [],
   "source": [
    "sc.install_pypi_package(\"matplotlib==3.2.2\")"
   ]
  },
  {
   "cell_type": "code",
   "execution_count": null,
   "metadata": {},
   "outputs": [],
   "source": [
    "from sklearn.datasets import load_diabetes\n",
    "from pyspark.ml.regression import LinearRegression\n",
    "from pyspark.ml.feature import VectorAssembler\n",
    "import pandas as pd\n",
    "import numpy as np\n",
    "import matplotlib.pyplot as plt"
   ]
  },
  {
   "cell_type": "code",
   "execution_count": null,
   "metadata": {},
   "outputs": [],
   "source": [
    "diabetes = load_diabetes()\n",
    "df = pd.DataFrame(diabetes.data, columns=diabetes.feature_names)\n",
    "df['y'] = diabetes.target\n",
    "sdf = spark.createDataFrame(df)\n",
    "\n",
    "assembler = VectorAssembler(inputCols=[c for c in sdf.columns if c != 'y'],\n",
    "                            outputCol='features')\n",
    "dataset = assembler.transform(sdf)\n",
    "dataset.show(5)"
   ]
  },
  {
   "cell_type": "markdown",
   "metadata": {},
   "source": [
    "## We haven't tested models on unseen data!"
   ]
  },
  {
   "cell_type": "code",
   "execution_count": null,
   "metadata": {},
   "outputs": [],
   "source": [
    "# We specify this so that the train and test data set always have the same rows, respectively\n",
    "np.random.seed(0)\n"
   ]
  },
  {
   "cell_type": "code",
   "execution_count": null,
   "metadata": {},
   "outputs": [],
   "source": [
    "train, test = dataset.randomSplit([0.5, 0.5], 25)\n",
    "lr = LinearRegression(featuresCol='features', labelCol='y')\n",
    "model = lr.fit(train)\n",
    "\n",
    "# Evaluate on training data\n",
    "summary_train = model.evaluate(train)\n",
    "print('R2 (training): ', summary_train.r2)\n",
    "\n",
    "# Evaluate on training data\n",
    "summary_test = model.evaluate(test)\n",
    "print('R2 (testing): ', summary_test.r2)"
   ]
  },
  {
   "cell_type": "markdown",
   "metadata": {},
   "source": [
    "## Increase training fraction?"
   ]
  },
  {
   "cell_type": "code",
   "execution_count": null,
   "metadata": {},
   "outputs": [],
   "source": [
    "# We specify this so that the train and test data set always have the same rows, respectively\n",
    "# np.random.seed(0)"
   ]
  },
  {
   "cell_type": "code",
   "execution_count": null,
   "metadata": {},
   "outputs": [],
   "source": [
    "plt.clf()"
   ]
  },
  {
   "cell_type": "code",
   "execution_count": null,
   "metadata": {},
   "outputs": [],
   "source": [
    "p_train = [0.6, 0.7, 0.8, 0.9]\n",
    "train_r2 = []\n",
    "test_r2 = []\n",
    "\n",
    "for p in p_train:\n",
    "    train, test = dataset.randomSplit([p, 1 - p], 25)\n",
    "    model = lr.fit(train)\n",
    "    \n",
    "    # Evaluate on training data\n",
    "    summary_train = model.evaluate(train)\n",
    "    train_r2.append(summary_train.r2)\n",
    "\n",
    "    # Evaluate on training data\n",
    "    summary_test = model.evaluate(test)\n",
    "    test_r2.append(summary_test.r2)\n",
    "\n",
    "plt.plot(p_train, train_r2, 'ro-', label='train')\n",
    "plt.plot(p_train, test_r2, 'g', label='test')\n",
    "plt.xlabel('Training Size')\n",
    "plt.ylabel('R2')\n",
    "plt.legend()"
   ]
  },
  {
   "cell_type": "code",
   "execution_count": null,
   "metadata": {},
   "outputs": [],
   "source": [
    "%matplot plt"
   ]
  }
 ],
 "metadata": {
  "kernelspec": {
   "display_name": "Python 3",
   "language": "python",
   "name": "python3"
  },
  "language_info": {
   "codemirror_mode": {
    "name": "ipython",
    "version": 3
   },
   "file_extension": ".py",
   "mimetype": "text/x-python",
   "name": "python",
   "nbconvert_exporter": "python",
   "pygments_lexer": "ipython3",
   "version": "3.7.6"
  }
 },
 "nbformat": 4,
 "nbformat_minor": 2
}
