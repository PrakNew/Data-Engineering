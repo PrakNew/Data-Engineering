{
 "cells": [
  {
   "cell_type": "code",
   "execution_count": 2,
   "metadata": {
    "scrolled": true
   },
   "outputs": [
    {
     "data": {
      "text/html": [
       "\n",
       "        <div>\n",
       "            <p><b>SparkContext</b></p>\n",
       "\n",
       "            <p><a href=\"http://ip-10-0-0-165.ec2.internal:4040\">Spark UI</a></p>\n",
       "\n",
       "            <dl>\n",
       "              <dt>Version</dt>\n",
       "                <dd><code>v2.3.0.cloudera2</code></dd>\n",
       "              <dt>Master</dt>\n",
       "                <dd><code>yarn-client</code></dd>\n",
       "              <dt>AppName</dt>\n",
       "                <dd><code>kmeans_songs</code></dd>\n",
       "            </dl>\n",
       "        </div>\n",
       "        "
      ],
      "text/plain": [
       "<SparkContext master=yarn-client appName=kmeans_songs>"
      ]
     },
     "execution_count": 2,
     "metadata": {},
     "output_type": "execute_result"
    }
   ],
   "source": [
    "sc"
   ]
  },
  {
   "cell_type": "code",
   "execution_count": null,
   "metadata": {},
   "outputs": [],
   "source": [
    "sc.install_pypi_package(\"matplotlib==3.2.2\")"
   ]
  },
  {
   "cell_type": "markdown",
   "metadata": {},
   "source": [
    "# EDA & Data Preparation"
   ]
  },
  {
   "cell_type": "markdown",
   "metadata": {},
   "source": [
    "### Load Data"
   ]
  },
  {
   "cell_type": "code",
   "execution_count": 4,
   "metadata": {},
   "outputs": [],
   "source": [
    "#Upload the dataset to your Amazon s3 bucket and replace'....your s3 bucket name....' with your s3 bucket name\n",
    "df = spark.read.csv('s3a://....your s3 bucket name..../music_data.csv', header=True, inferSchema=True)"
   ]
  },
  {
   "cell_type": "code",
   "execution_count": 5,
   "metadata": {
    "scrolled": false
   },
   "outputs": [
    {
     "name": "stdout",
     "output_type": "stream",
     "text": [
      "+--------------------+--------------------+--------------------+-----+\n",
      "|              userid|            artistid|         artist_name|plays|\n",
      "+--------------------+--------------------+--------------------+-----+\n",
      "|00000c289a1829a80...|3bd73256-3905-4f3...|     betty blowtorch| 2137|\n",
      "|00000c289a1829a80...|f2fb0ff0-5679-42e...|           die Ärzte| 1099|\n",
      "|00000c289a1829a80...|b3ae82c2-e60b-455...|   melissa etheridge|  897|\n",
      "|00000c289a1829a80...|3d6bbeb7-f90e-4d1...|           elvenking|  717|\n",
      "|00000c289a1829a80...|bbd2ffd7-17f4-450...|juliette & the licks|  706|\n",
      "|00000c289a1829a80...|8bfac288-ccc5-448...|red hot chili pep...|  691|\n",
      "|00000c289a1829a80...|6531c8b1-76ea-414...|              magica|  545|\n",
      "|00000c289a1829a80...|21f3573f-10cf-44b...|the black dahlia ...|  507|\n",
      "|00000c289a1829a80...|c5db90c4-580d-4f3...|         the murmurs|  424|\n",
      "|00000c289a1829a80...|0639533a-0402-40b...|          lunachicks|  403|\n",
      "|00000c289a1829a80...|a342964d-ca53-4e5...|    walls of jericho|  393|\n",
      "|00000c289a1829a80...|f779ed95-66c8-449...|      letzte instanz|  387|\n",
      "|00000c289a1829a80...|7b885d42-3c41-4f4...|           goldfrapp|  361|\n",
      "|00000c289a1829a80...|e000d76b-afff-428...|          horrorpops|  358|\n",
      "|00000c289a1829a80...|adf334c2-9186-48c...|        the butchies|  329|\n",
      "|00000c289a1829a80...|7e870dd5-2667-454...|       jack off jill|  316|\n",
      "|00000c289a1829a80...|41593aa1-dda6-4a5...|    babes in toyland|  310|\n",
      "|00000c289a1829a80...|e8374874-4178-486...|    dropkick murphys|  302|\n",
      "|00000c289a1829a80...|295a3ae3-9e81-4cf...|       all:my:faults|  288|\n",
      "|00000c289a1829a80...|2d67239c-aa40-4ad...|            le tigre|  281|\n",
      "+--------------------+--------------------+--------------------+-----+\n",
      "only showing top 20 rows\n",
      "\n"
     ]
    }
   ],
   "source": [
    "df.show()"
   ]
  },
  {
   "cell_type": "code",
   "execution_count": 6,
   "metadata": {},
   "outputs": [
    {
     "data": {
      "text/plain": [
       "999"
      ]
     },
     "execution_count": 6,
     "metadata": {},
     "output_type": "execute_result"
    }
   ],
   "source": [
    "df.count()"
   ]
  },
  {
   "cell_type": "code",
   "execution_count": null,
   "metadata": {},
   "outputs": [],
   "source": []
  },
  {
   "cell_type": "code",
   "execution_count": null,
   "metadata": {},
   "outputs": [],
   "source": []
  },
  {
   "cell_type": "markdown",
   "metadata": {},
   "source": [
    "### Select only Artist since we want artist clusters"
   ]
  },
  {
   "cell_type": "code",
   "execution_count": 7,
   "metadata": {},
   "outputs": [],
   "source": [
    "df_artist = df.select(['artist_name', 'plays'])"
   ]
  },
  {
   "cell_type": "code",
   "execution_count": 8,
   "metadata": {},
   "outputs": [
    {
     "name": "stdout",
     "output_type": "stream",
     "text": [
      "+--------------------+-----+\n",
      "|         artist_name|plays|\n",
      "+--------------------+-----+\n",
      "|     betty blowtorch| 2137|\n",
      "|           die Ärzte| 1099|\n",
      "|   melissa etheridge|  897|\n",
      "|           elvenking|  717|\n",
      "|juliette & the licks|  706|\n",
      "|red hot chili pep...|  691|\n",
      "|              magica|  545|\n",
      "|the black dahlia ...|  507|\n",
      "|         the murmurs|  424|\n",
      "|          lunachicks|  403|\n",
      "+--------------------+-----+\n",
      "only showing top 10 rows\n",
      "\n"
     ]
    }
   ],
   "source": [
    "df_artist.show(10)"
   ]
  },
  {
   "cell_type": "code",
   "execution_count": 9,
   "metadata": {},
   "outputs": [
    {
     "data": {
      "text/plain": [
       "999"
      ]
     },
     "execution_count": 9,
     "metadata": {},
     "output_type": "execute_result"
    }
   ],
   "source": [
    "df_artist.count()"
   ]
  },
  {
   "cell_type": "code",
   "execution_count": null,
   "metadata": {},
   "outputs": [],
   "source": []
  },
  {
   "cell_type": "code",
   "execution_count": null,
   "metadata": {},
   "outputs": [],
   "source": []
  },
  {
   "cell_type": "code",
   "execution_count": null,
   "metadata": {},
   "outputs": [],
   "source": []
  },
  {
   "cell_type": "code",
   "execution_count": null,
   "metadata": {},
   "outputs": [],
   "source": []
  },
  {
   "cell_type": "code",
   "execution_count": 10,
   "metadata": {},
   "outputs": [],
   "source": [
    "artist_aggr = df_artist.groupby('artist_name').sum()"
   ]
  },
  {
   "cell_type": "code",
   "execution_count": 11,
   "metadata": {},
   "outputs": [
    {
     "name": "stdout",
     "output_type": "stream",
     "text": [
      "+----------------+----------+\n",
      "|     artist_name|sum(plays)|\n",
      "+----------------+----------+\n",
      "|        le tigre|       281|\n",
      "|              l7|       135|\n",
      "|             fog|       132|\n",
      "|           hanna|         4|\n",
      "| raymond & maria|       737|\n",
      "|       amplifier|       175|\n",
      "|     the beatles|      1041|\n",
      "|      television|         7|\n",
      "|    steel attack|       551|\n",
      "|john jacob niles|        57|\n",
      "+----------------+----------+\n",
      "only showing top 10 rows\n",
      "\n"
     ]
    }
   ],
   "source": [
    "artist_aggr.show(10)"
   ]
  },
  {
   "cell_type": "code",
   "execution_count": 12,
   "metadata": {},
   "outputs": [
    {
     "data": {
      "text/plain": [
       "857"
      ]
     },
     "execution_count": 12,
     "metadata": {},
     "output_type": "execute_result"
    }
   ],
   "source": [
    "artist_aggr.count()"
   ]
  },
  {
   "cell_type": "code",
   "execution_count": 13,
   "metadata": {},
   "outputs": [
    {
     "data": {
      "text/plain": [
       "['artist_name', 'sum(plays)']"
      ]
     },
     "execution_count": 13,
     "metadata": {},
     "output_type": "execute_result"
    }
   ],
   "source": [
    "artist_aggr.columns"
   ]
  },
  {
   "cell_type": "code",
   "execution_count": 14,
   "metadata": {},
   "outputs": [
    {
     "name": "stdout",
     "output_type": "stream",
     "text": [
      "+----------+\n",
      "|sum(plays)|\n",
      "+----------+\n",
      "|       281|\n",
      "|       135|\n",
      "|       132|\n",
      "|         4|\n",
      "|       737|\n",
      "|       175|\n",
      "|      1041|\n",
      "|         7|\n",
      "|       551|\n",
      "|        57|\n",
      "+----------+\n",
      "only showing top 10 rows\n",
      "\n"
     ]
    }
   ],
   "source": [
    "artist_aggr.select('sum(plays)').show(10)"
   ]
  },
  {
   "cell_type": "code",
   "execution_count": 15,
   "metadata": {},
   "outputs": [],
   "source": [
    "artist_data = artist_aggr.withColumnRenamed(\"sum(plays)\", \"plays_sum\")"
   ]
  },
  {
   "cell_type": "code",
   "execution_count": 16,
   "metadata": {},
   "outputs": [
    {
     "name": "stdout",
     "output_type": "stream",
     "text": [
      "+----------------+---------+\n",
      "|     artist_name|plays_sum|\n",
      "+----------------+---------+\n",
      "|        le tigre|      281|\n",
      "|              l7|      135|\n",
      "|             fog|      132|\n",
      "|           hanna|        4|\n",
      "| raymond & maria|      737|\n",
      "|       amplifier|      175|\n",
      "|     the beatles|     1041|\n",
      "|      television|        7|\n",
      "|    steel attack|      551|\n",
      "|john jacob niles|       57|\n",
      "+----------------+---------+\n",
      "only showing top 10 rows\n",
      "\n"
     ]
    }
   ],
   "source": [
    "artist_data.show(10)"
   ]
  },
  {
   "cell_type": "code",
   "execution_count": null,
   "metadata": {},
   "outputs": [],
   "source": []
  },
  {
   "cell_type": "code",
   "execution_count": null,
   "metadata": {},
   "outputs": [],
   "source": []
  },
  {
   "cell_type": "code",
   "execution_count": null,
   "metadata": {},
   "outputs": [],
   "source": []
  },
  {
   "cell_type": "code",
   "execution_count": null,
   "metadata": {},
   "outputs": [],
   "source": []
  },
  {
   "cell_type": "markdown",
   "metadata": {},
   "source": [
    "### VectorAssembler"
   ]
  },
  {
   "cell_type": "code",
   "execution_count": 17,
   "metadata": {},
   "outputs": [],
   "source": [
    "from pyspark.ml.feature import VectorAssembler"
   ]
  },
  {
   "cell_type": "code",
   "execution_count": 18,
   "metadata": {},
   "outputs": [],
   "source": [
    "assembler = VectorAssembler(inputCols=['plays_sum'],outputCol='features')\n"
   ]
  },
  {
   "cell_type": "code",
   "execution_count": 19,
   "metadata": {},
   "outputs": [],
   "source": [
    "model_data = assembler.transform(artist_data)"
   ]
  },
  {
   "cell_type": "code",
   "execution_count": 20,
   "metadata": {},
   "outputs": [
    {
     "name": "stdout",
     "output_type": "stream",
     "text": [
      "+----------------+---------+--------+\n",
      "|     artist_name|plays_sum|features|\n",
      "+----------------+---------+--------+\n",
      "|        le tigre|      281| [281.0]|\n",
      "|              l7|      135| [135.0]|\n",
      "|             fog|      132| [132.0]|\n",
      "|           hanna|        4|   [4.0]|\n",
      "| raymond & maria|      737| [737.0]|\n",
      "|       amplifier|      175| [175.0]|\n",
      "|     the beatles|     1041|[1041.0]|\n",
      "|      television|        7|   [7.0]|\n",
      "|    steel attack|      551| [551.0]|\n",
      "|john jacob niles|       57|  [57.0]|\n",
      "+----------------+---------+--------+\n",
      "only showing top 10 rows\n",
      "\n"
     ]
    }
   ],
   "source": [
    "model_data.show(10)"
   ]
  },
  {
   "cell_type": "code",
   "execution_count": null,
   "metadata": {},
   "outputs": [],
   "source": []
  },
  {
   "cell_type": "code",
   "execution_count": null,
   "metadata": {},
   "outputs": [],
   "source": []
  },
  {
   "cell_type": "code",
   "execution_count": null,
   "metadata": {},
   "outputs": [],
   "source": []
  },
  {
   "cell_type": "code",
   "execution_count": null,
   "metadata": {},
   "outputs": [],
   "source": []
  },
  {
   "cell_type": "code",
   "execution_count": null,
   "metadata": {},
   "outputs": [],
   "source": []
  },
  {
   "cell_type": "markdown",
   "metadata": {},
   "source": [
    "# Model Building"
   ]
  },
  {
   "cell_type": "markdown",
   "metadata": {},
   "source": [
    "### KMeans Clustering"
   ]
  },
  {
   "cell_type": "code",
   "execution_count": 21,
   "metadata": {},
   "outputs": [],
   "source": [
    "from pyspark.ml.clustering import KMeans\n",
    "from pyspark.ml.evaluation import ClusteringEvaluator\n"
   ]
  },
  {
   "cell_type": "code",
   "execution_count": 22,
   "metadata": {},
   "outputs": [],
   "source": [
    "kmeans = KMeans(k=7, seed=1)  "
   ]
  },
  {
   "cell_type": "code",
   "execution_count": 23,
   "metadata": {},
   "outputs": [],
   "source": [
    "model = kmeans.fit(model_data.select('features'))"
   ]
  },
  {
   "cell_type": "code",
   "execution_count": 25,
   "metadata": {},
   "outputs": [
    {
     "data": {
      "text/plain": [
       "KMeans_4264b87eef7511c30b37"
      ]
     },
     "execution_count": 25,
     "metadata": {},
     "output_type": "execute_result"
    }
   ],
   "source": [
    "model"
   ]
  },
  {
   "cell_type": "code",
   "execution_count": null,
   "metadata": {},
   "outputs": [],
   "source": []
  },
  {
   "cell_type": "code",
   "execution_count": null,
   "metadata": {},
   "outputs": [],
   "source": []
  },
  {
   "cell_type": "code",
   "execution_count": null,
   "metadata": {},
   "outputs": [],
   "source": []
  },
  {
   "cell_type": "code",
   "execution_count": null,
   "metadata": {},
   "outputs": [],
   "source": []
  },
  {
   "cell_type": "code",
   "execution_count": null,
   "metadata": {},
   "outputs": [],
   "source": []
  },
  {
   "cell_type": "code",
   "execution_count": 26,
   "metadata": {},
   "outputs": [
    {
     "data": {
      "text/plain": [
       "24763213.273576926"
      ]
     },
     "execution_count": 26,
     "metadata": {},
     "output_type": "execute_result"
    }
   ],
   "source": [
    "model.computeCost(model_data)"
   ]
  },
  {
   "cell_type": "code",
   "execution_count": 27,
   "metadata": {},
   "outputs": [
    {
     "data": {
      "text/plain": [
       "24763213.273576923"
      ]
     },
     "execution_count": 27,
     "metadata": {},
     "output_type": "execute_result"
    }
   ],
   "source": [
    "model.computeCost(model_data.select('features'))"
   ]
  },
  {
   "cell_type": "code",
   "execution_count": 28,
   "metadata": {},
   "outputs": [],
   "source": [
    "output = model.transform(model_data)\n"
   ]
  },
  {
   "cell_type": "markdown",
   "metadata": {},
   "source": [
    "### Prediction is cluster label output"
   ]
  },
  {
   "cell_type": "code",
   "execution_count": 32,
   "metadata": {},
   "outputs": [
    {
     "name": "stdout",
     "output_type": "stream",
     "text": [
      "+--------------------+---------+--------+----------+\n",
      "|         artist_name|plays_sum|features|prediction|\n",
      "+--------------------+---------+--------+----------+\n",
      "|            le tigre|      281| [281.0]|         0|\n",
      "|                  l7|      135| [135.0]|         4|\n",
      "|                 fog|      132| [132.0]|         4|\n",
      "|               hanna|        4|   [4.0]|         4|\n",
      "|     raymond & maria|      737| [737.0]|         6|\n",
      "|           amplifier|      175| [175.0]|         4|\n",
      "|         the beatles|     1041|[1041.0]|         6|\n",
      "|          television|        7|   [7.0]|         4|\n",
      "|        steel attack|      551| [551.0]|         0|\n",
      "|    john jacob niles|       57|  [57.0]|         4|\n",
      "|         teräsbetoni|       95|  [95.0]|         4|\n",
      "|           lil wayne|       32|  [32.0]|         4|\n",
      "|      gnarls barkley|      200| [200.0]|         4|\n",
      "|     pedro abrunhosa|      254| [254.0]|         4|\n",
      "|          hoobastank|      313| [313.0]|         0|\n",
      "|           goon moon|      199| [199.0]|         4|\n",
      "|        sweet coffee|       49|  [49.0]|         4|\n",
      "|             erasure|       16|  [16.0]|         4|\n",
      "|                 mew|      171| [171.0]|         4|\n",
      "|         dragonforce|       93|  [93.0]|         4|\n",
      "|      paul oakenfold|      419| [419.0]|         0|\n",
      "|      the verve pipe|      151| [151.0]|         4|\n",
      "|      sufjan stevens|      201| [201.0]|         4|\n",
      "|  christina aguilera|        5|   [5.0]|         4|\n",
      "|        3 doors down|      149| [149.0]|         4|\n",
      "|        daniel higgs|       67|  [67.0]|         4|\n",
      "|             caribou|       65|  [65.0]|         4|\n",
      "|           sigur rós|     1164|[1164.0]|         6|\n",
      "|               daath|      540| [540.0]|         0|\n",
      "|           goldfrapp|      486| [486.0]|         0|\n",
      "|      okkervil river|     2641|[2641.0]|         3|\n",
      "|           in flames|      475| [475.0]|         0|\n",
      "|          bustamante|        4|   [4.0]|         4|\n",
      "|roni size & repra...|       26|  [26.0]|         4|\n",
      "|          dave gahan|       24|  [24.0]|         4|\n",
      "|         the qemists|      104| [104.0]|         4|\n",
      "|           stereolab|       11|  [11.0]|         4|\n",
      "| broken social scene|     6557|[6557.0]|         2|\n",
      "|            mstrkrft|     2102|[2102.0]|         3|\n",
      "|the secret handshake|     1384|[1384.0]|         6|\n",
      "|        stratovarius|       40|  [40.0]|         4|\n",
      "|              sum 41|      602| [602.0]|         0|\n",
      "|             j dilla|      124| [124.0]|         4|\n",
      "|           the verve|       29|  [29.0]|         4|\n",
      "|          dream evil|      398| [398.0]|         0|\n",
      "|       amanda rogers|      119| [119.0]|         4|\n",
      "|             soisong|       51|  [51.0]|         4|\n",
      "|         vanessa-mae|       73|  [73.0]|         4|\n",
      "|             nizlopi|      254| [254.0]|         4|\n",
      "|        at the gates|        3|   [3.0]|         4|\n",
      "|      frozen silence|       49|  [49.0]|         4|\n",
      "|                malu|        4|   [4.0]|         4|\n",
      "|       the offspring|      256| [256.0]|         4|\n",
      "|          method man|       52|  [52.0]|         4|\n",
      "|orchestral manoeu...|      439| [439.0]|         0|\n",
      "|      set your goals|      319| [319.0]|         0|\n",
      "|       mortification|      430| [430.0]|         0|\n",
      "|        andrew liles|      248| [248.0]|         4|\n",
      "|        the darkness|       73|  [73.0]|         4|\n",
      "|            percee p|       56|  [56.0]|         4|\n",
      "|      lady sovereign|      131| [131.0]|         4|\n",
      "|                elis|       31|  [31.0]|         4|\n",
      "|                why?|       91|  [91.0]|         4|\n",
      "|             battles|      270| [270.0]|         0|\n",
      "|           holy fuck|      205| [205.0]|         4|\n",
      "|         iron maiden|     1523|[1523.0]|         3|\n",
      "|            t.a.t.u.|        4|   [4.0]|         4|\n",
      "|               oasis|      418| [418.0]|         0|\n",
      "|  the tough alliance|      148| [148.0]|         4|\n",
      "|    moving mountains|      351| [351.0]|         0|\n",
      "|          uriah heep|      168| [168.0]|         4|\n",
      "|        running wild|     1766|[1766.0]|         3|\n",
      "|            all ends|      229| [229.0]|         4|\n",
      "|         white denim|      748| [748.0]|         6|\n",
      "|dashboard confess...|      161| [161.0]|         4|\n",
      "|             50 cent|       36|  [36.0]|         4|\n",
      "|black rebel motor...|       78|  [78.0]|         4|\n",
      "|           eluveitie|      222| [222.0]|         4|\n",
      "|  boris with merzbow|      636| [636.0]|         0|\n",
      "|           broadcast|       75|  [75.0]|         4|\n",
      "|            megadeth|      255| [255.0]|         4|\n",
      "|                seal|      429| [429.0]|         0|\n",
      "|    slagsmålsklubben|      193| [193.0]|         4|\n",
      "|               annie|       75|  [75.0]|         4|\n",
      "|     black eyed peas|       12|  [12.0]|         4|\n",
      "|               ulver|       52|  [52.0]|         4|\n",
      "|         film school|       21|  [21.0]|         4|\n",
      "|   the dandy warhols|       80|  [80.0]|         4|\n",
      "|          the smiths|       96|  [96.0]|         4|\n",
      "|      compay segundo|        3|   [3.0]|         4|\n",
      "|the cinematic orc...|      366| [366.0]|         0|\n",
      "|          clawfinger|       38|  [38.0]|         4|\n",
      "|  taking back sunday|       91|  [91.0]|         4|\n",
      "|abstract rude & t...|       36|  [36.0]|         4|\n",
      "|     the duke spirit|       52|  [52.0]|         4|\n",
      "|    walls of jericho|      393| [393.0]|         0|\n",
      "|           joan baez|       22|  [22.0]|         4|\n",
      "|      ratos de porão|      134| [134.0]|         4|\n",
      "|architecture in h...|       68|  [68.0]|         4|\n",
      "|       nelly furtado|       42|  [42.0]|         4|\n",
      "+--------------------+---------+--------+----------+\n",
      "only showing top 100 rows\n",
      "\n"
     ]
    }
   ],
   "source": [
    "output.show(100)  "
   ]
  },
  {
   "cell_type": "code",
   "execution_count": 33,
   "metadata": {},
   "outputs": [
    {
     "data": {
      "text/plain": [
       "DataFrame[artist_name: string, plays_sum: bigint, features: vector, prediction: int]"
      ]
     },
     "execution_count": 33,
     "metadata": {},
     "output_type": "execute_result"
    }
   ],
   "source": [
    "output"
   ]
  },
  {
   "cell_type": "code",
   "execution_count": null,
   "metadata": {},
   "outputs": [],
   "source": []
  },
  {
   "cell_type": "code",
   "execution_count": null,
   "metadata": {},
   "outputs": [],
   "source": []
  },
  {
   "cell_type": "code",
   "execution_count": null,
   "metadata": {},
   "outputs": [],
   "source": []
  },
  {
   "cell_type": "code",
   "execution_count": null,
   "metadata": {},
   "outputs": [],
   "source": []
  },
  {
   "cell_type": "markdown",
   "metadata": {},
   "source": [
    "### Cluster Center"
   ]
  },
  {
   "cell_type": "code",
   "execution_count": 30,
   "metadata": {},
   "outputs": [],
   "source": [
    "centers = model.clusterCenters()"
   ]
  },
  {
   "cell_type": "code",
   "execution_count": 31,
   "metadata": {},
   "outputs": [
    {
     "name": "stdout",
     "output_type": "stream",
     "text": [
      "Cluster Centers: \n",
      "[446.20833333]\n",
      "[10682.33333333]\n",
      "[5438.83333333]\n",
      "[1919.53333333]\n",
      "[86.07586207]\n",
      "[3760.14285714]\n",
      "[937.82539683]\n"
     ]
    }
   ],
   "source": [
    "print(\"Cluster Centers: \")\n",
    "for center in centers:\n",
    "    print(center)"
   ]
  },
  {
   "cell_type": "code",
   "execution_count": null,
   "metadata": {},
   "outputs": [],
   "source": []
  },
  {
   "cell_type": "code",
   "execution_count": null,
   "metadata": {},
   "outputs": [],
   "source": []
  },
  {
   "cell_type": "code",
   "execution_count": null,
   "metadata": {},
   "outputs": [],
   "source": []
  },
  {
   "cell_type": "code",
   "execution_count": null,
   "metadata": {},
   "outputs": [],
   "source": []
  },
  {
   "cell_type": "code",
   "execution_count": null,
   "metadata": {},
   "outputs": [],
   "source": []
  },
  {
   "cell_type": "code",
   "execution_count": null,
   "metadata": {},
   "outputs": [],
   "source": []
  },
  {
   "cell_type": "markdown",
   "metadata": {},
   "source": [
    "### Create Temp View for SQL Queries"
   ]
  },
  {
   "cell_type": "code",
   "execution_count": 34,
   "metadata": {},
   "outputs": [],
   "source": [
    "output.createTempView('output_view')"
   ]
  },
  {
   "cell_type": "code",
   "execution_count": 35,
   "metadata": {},
   "outputs": [
    {
     "name": "stdout",
     "output_type": "stream",
     "text": [
      "+--------------------+---------+----------+\n",
      "|         artist_name|plays_sum|prediction|\n",
      "+--------------------+---------+----------+\n",
      "|the most serene r...|    12763|         1|\n",
      "|     nine inch nails|    11092|         1|\n",
      "|               stars|     8192|         1|\n",
      "| broken social scene|     6557|         2|\n",
      "|          have heart|     5361|         2|\n",
      "|         bright eyes|     5322|         2|\n",
      "|      arctic monkeys|     5163|         2|\n",
      "|     luminous orange|     5120|         2|\n",
      "|               boris|     5110|         2|\n",
      "|coaltar of the de...|     4143|         5|\n",
      "|     polar bear club|     4091|         5|\n",
      "|      the libertines|     3916|         5|\n",
      "|           blink-182|     3855|         5|\n",
      "|            coldplay|     3854|         5|\n",
      "|death from above ...|     3315|         5|\n",
      "|            owl city|     3147|         5|\n",
      "|           radiohead|     2836|         3|\n",
      "|      okkervil river|     2641|         3|\n",
      "|        jim sturgess|     2427|         3|\n",
      "|david & the citizens|     2373|         3|\n",
      "+--------------------+---------+----------+\n",
      "only showing top 20 rows\n",
      "\n"
     ]
    }
   ],
   "source": [
    "spark.sql(\"select artist_name, plays_sum, prediction from output_view order by output_view.plays_sum desc limit 100\").show()"
   ]
  },
  {
   "cell_type": "code",
   "execution_count": null,
   "metadata": {},
   "outputs": [],
   "source": []
  },
  {
   "cell_type": "code",
   "execution_count": null,
   "metadata": {},
   "outputs": [],
   "source": []
  },
  {
   "cell_type": "code",
   "execution_count": null,
   "metadata": {},
   "outputs": [],
   "source": []
  },
  {
   "cell_type": "code",
   "execution_count": null,
   "metadata": {},
   "outputs": [],
   "source": []
  },
  {
   "cell_type": "code",
   "execution_count": null,
   "metadata": {},
   "outputs": [],
   "source": []
  },
  {
   "cell_type": "code",
   "execution_count": null,
   "metadata": {},
   "outputs": [],
   "source": []
  },
  {
   "cell_type": "code",
   "execution_count": null,
   "metadata": {},
   "outputs": [],
   "source": []
  },
  {
   "cell_type": "code",
   "execution_count": null,
   "metadata": {},
   "outputs": [],
   "source": []
  },
  {
   "cell_type": "markdown",
   "metadata": {},
   "source": [
    "# Model Evaluation"
   ]
  },
  {
   "cell_type": "markdown",
   "metadata": {},
   "source": [
    "### Silhouette Score"
   ]
  },
  {
   "cell_type": "markdown",
   "metadata": {},
   "source": [
    "Values closer to 1 indicate maximum separation.  The best value is 1 and the worst value is -1. Values near 0 indicate overlapping clusters. Negative values generally indicate that a sample has been assigned to the wrong cluster, as a different cluster is more similar."
   ]
  },
  {
   "cell_type": "code",
   "execution_count": 36,
   "metadata": {},
   "outputs": [],
   "source": [
    "# calculating Silhouette score\n",
    "evaluator = ClusteringEvaluator()\n"
   ]
  },
  {
   "cell_type": "code",
   "execution_count": 37,
   "metadata": {},
   "outputs": [],
   "source": [
    "silhouette_score = evaluator.evaluate(output)\n"
   ]
  },
  {
   "cell_type": "code",
   "execution_count": 38,
   "metadata": {},
   "outputs": [
    {
     "name": "stdout",
     "output_type": "stream",
     "text": [
      "silhouette_score = 0.822451300698\n"
     ]
    }
   ],
   "source": [
    "print(\"silhouette_score = \" + str(silhouette_score))\n"
   ]
  },
  {
   "cell_type": "code",
   "execution_count": null,
   "metadata": {},
   "outputs": [],
   "source": []
  },
  {
   "cell_type": "code",
   "execution_count": null,
   "metadata": {},
   "outputs": [],
   "source": []
  },
  {
   "cell_type": "code",
   "execution_count": null,
   "metadata": {},
   "outputs": [],
   "source": []
  },
  {
   "cell_type": "code",
   "execution_count": null,
   "metadata": {},
   "outputs": [],
   "source": []
  },
  {
   "cell_type": "markdown",
   "metadata": {},
   "source": [
    "## Elbow Method"
   ]
  },
  {
   "cell_type": "code",
   "execution_count": 39,
   "metadata": {
    "scrolled": true
   },
   "outputs": [
    {
     "name": "stdout",
     "output_type": "stream",
     "text": [
      "('K :  ', 3)\n",
      "('K :  ', 7)\n",
      "('K :  ', 10)\n"
     ]
    }
   ],
   "source": [
    "ks = [3,7,10]\n",
    "costfunction = []\n",
    "\n",
    "for k_num in ks:\n",
    "    # build kmeans model with k as no of cluster\n",
    "    print(\"K :  \",k_num)\n",
    "    model_k = KMeans(k=k_num , seed=1)\n",
    "\n",
    "    # train the model\n",
    "    model = model_k.fit(model_data.select('features'))\n",
    "\n",
    "    # Append costfunction to list of costfunction\n",
    "    costfunction.append(model.computeCost(model_data))"
   ]
  },
  {
   "cell_type": "code",
   "execution_count": 40,
   "metadata": {},
   "outputs": [
    {
     "data": {
      "text/plain": [
       "[144944486.7550643, 24763213.27357692, 9108641.911710447]"
      ]
     },
     "execution_count": 40,
     "metadata": {},
     "output_type": "execute_result"
    }
   ],
   "source": [
    "costfunction"
   ]
  },
  {
   "cell_type": "code",
   "execution_count": null,
   "metadata": {},
   "outputs": [],
   "source": []
  },
  {
   "cell_type": "code",
   "execution_count": null,
   "metadata": {},
   "outputs": [],
   "source": []
  },
  {
   "cell_type": "code",
   "execution_count": null,
   "metadata": {},
   "outputs": [],
   "source": []
  },
  {
   "cell_type": "code",
   "execution_count": null,
   "metadata": {},
   "outputs": [],
   "source": []
  },
  {
   "cell_type": "markdown",
   "metadata": {},
   "source": [
    "### Plot Elbow Curve"
   ]
  },
  {
   "cell_type": "code",
   "execution_count": null,
   "metadata": {},
   "outputs": [],
   "source": [
    "import matplotlib.pyplot as plt\r\n",
    "%matplotlib inline"
   ]
  },
  {
   "cell_type": "code",
   "execution_count": null,
   "metadata": {},
   "outputs": [],
   "source": [
    "plt.clf()"
   ]
  },
  {
   "cell_type": "code",
   "execution_count": null,
   "metadata": {},
   "outputs": [],
   "source": [
    "# Plot k vs cost_function\r\n",
    "plt.plot(ks, costfunction, '-o')\r\n",
    "plt.xlabel('number of clusters, k')\r\n",
    "plt.ylabel('cost function')\r\n",
    "plt.xticks(ks)\r\n",
    "plt.show()"
   ]
  },
  {
   "cell_type": "code",
   "execution_count": null,
   "metadata": {},
   "outputs": [],
   "source": [
    "%matplot plt"
   ]
  }
 ],
 "metadata": {
  "kernelspec": {
   "display_name": "Python 3",
   "language": "python",
   "name": "python3"
  },
  "language_info": {
   "codemirror_mode": {
    "name": "ipython",
    "version": 3
   },
   "file_extension": ".py",
   "mimetype": "text/x-python",
   "name": "python",
   "nbconvert_exporter": "python",
   "pygments_lexer": "ipython3",
   "version": "3.8.3"
  }
 },
 "nbformat": 4,
 "nbformat_minor": 2
}